{
 "cells": [
  {
   "cell_type": "markdown",
   "id": "b647e9f8",
   "metadata": {},
   "source": [
    "# Statistics Advanced - 2 | Assignment Solutions"
   ]
  },
  {
   "cell_type": "markdown",
   "id": "754b44e1",
   "metadata": {},
   "source": [
    "### Question 1: What is hypothesis testing in statistics?\n",
    "\n",
    "**Answer:**\n",
    "Hypothesis testing is a formal, quantitative procedure for using sample data to evaluate competing claims (hypotheses) about a population parameter.\n",
    "Typically, we start with a **null hypothesis (H₀)** that represents the status quo or a specific claimed value of a parameter, and an **alternative hypothesis (H₁/Ha)** that represents a competing claim. We then compute a test statistic from the sample and compare it against a reference distribution to obtain a p‑value or a critical‑value decision. If the evidence provided by the sample is sufficiently strong (p‑value ≤ α), we **reject H₀** in favor of **H₁**; otherwise, we **fail to reject H₀**."
   ]
  },
  {
   "cell_type": "markdown",
   "id": "f55dbc88",
   "metadata": {},
   "source": [
    "### Question 2: What is the null hypothesis, and how does it differ from the alternative hypothesis?\n",
    "\n",
    "**Answer:**\n",
    "- **Null hypothesis (H₀):** A specific statement about a population parameter that represents no effect, no difference, or the status quo (e.g., μ = 50). It is the claim we try to find evidence **against**.\n",
    "- **Alternative hypothesis (H₁/Ha):** The complementary claim we want to find evidence **for** (e.g., μ ≠ 50, μ > 50, or μ < 50). It states that an effect or difference **does** exist.\n",
    "They differ in direction and purpose: H₀ is the default assumption; Ha is concluded only if sample evidence is strong enough to reject H₀."
   ]
  },
  {
   "cell_type": "markdown",
   "id": "62e83952",
   "metadata": {},
   "source": [
    "### Question 3: Explain the significance level in hypothesis testing and its role in deciding the outcome of a test.\n",
    "\n",
    "**Answer:**\n",
    "The **significance level** (α) is the pre‑chosen threshold for how much evidence against H₀ is required to reject it—commonly 0.05 or 0.01. If the **p‑value ≤ α**, we reject H₀; otherwise, we fail to reject H₀. In other words, α controls the long‑run probability of making a **Type I error** (incorrectly rejecting a true H₀)."
   ]
  },
  {
   "cell_type": "markdown",
   "id": "bb4fac5f",
   "metadata": {},
   "source": [
    "### Question 4: What are Type I and Type II errors? Give examples of each.\n",
    "\n",
    "**Answer:**\n",
    "- **Type I error (False Positive):** Rejecting a true H₀. Example: Concluding a new drug works when in reality it does not. Probability of this error is α.\n",
    "- **Type II error (False Negative):** Failing to reject a false H₀. Example: Concluding a new drug does not work when in reality it does. Probability of this error is β (and power = 1 − β)."
   ]
  },
  {
   "cell_type": "markdown",
   "id": "d2a313df",
   "metadata": {},
   "source": [
    "### Question 5: What is the difference between a Z-test and a T-test? Explain when to use each.\n",
    "\n",
    "**Answer:**\n",
    "- **Z‑test:** Used when the population standard deviation (σ) is **known** *or* the sample size is large and the Central Limit Theorem applies. The test statistic follows the standard normal distribution.\n",
    "- **t‑test:** Used when σ is **unknown** and we estimate it with the sample standard deviation (s). The test statistic follows a **Student’s t** distribution with appropriate degrees of freedom.\n",
    "In practice: use a t‑test for most small/medium samples with unknown σ; use a Z‑test when σ is known or sample size is large and normality assumptions are reasonable."
   ]
  },
  {
   "cell_type": "markdown",
   "id": "0277ee93",
   "metadata": {},
   "source": [
    "### Question 6: Write a Python program to generate a binomial distribution with n=10 and p=0.5, then plot its histogram.\n",
    "\n",
    "**Answer (Code):**"
   ]
  },
  {
   "cell_type": "code",
   "execution_count": 1,
   "id": "16cfee9b",
   "metadata": {},
   "outputs": [
    {
     "data": {
      "image/png": "[encoded data removed]",
      "text/plain": [
       "<Figure size 640x480 with 1 Axes>"
      ]
     },
     "metadata": {},
     "output_type": "display_data"
    },
    {
     "name": "stdout",
     "output_type": "stream",
     "text": [
      "Sample mean ≈ 4.982, theoretical mean = 5.000\n",
      "Sample var  ≈ 2.506, theoretical var  = 2.500\n"
     ]
    }
   ],
   "source": [
    "import numpy as np\n",
    "import matplotlib.pyplot as plt\n",
    "\n",
    "# Reproducibility\n",
    "np.random.seed(42)\n",
    "\n",
    "# Parameters\n",
    "n = 10\n",
    "p = 0.5\n",
    "size = 5000  # number of simulated trials\n",
    "\n",
    "# Generate binomial data\n",
    "data = np.random.binomial(n=n, p=p, size=size)\n",
    "\n",
    "# Plot histogram\n",
    "plt.figure()\n",
    "plt.hist(data, bins=np.arange(-0.5, n+1.5, 1), edgecolor='black')\n",
    "plt.title('Binomial(n=10, p=0.5) — Histogram')\n",
    "plt.xlabel('Number of Successes in 10 Trials')\n",
    "plt.ylabel('Frequency')\n",
    "plt.show()\n",
    "\n",
    "print(f\"Sample mean ≈ {data.mean():.3f}, theoretical mean = {n*p:.3f}\")\n",
    "print(f\"Sample var  ≈ {data.var(ddof=0):.3f}, theoretical var  = {n*p*(1-p):.3f}\")"
   ]
  },
  {
   "cell_type": "markdown",
   "id": "b54695b5",
   "metadata": {},
   "source": [
    "### Question 7: Implement hypothesis testing using Z-statistics for a sample dataset in Python. Show the Python code and interpret the results.\n",
    "\n",
    "**Answer (Code + Interpretation):**\n",
    "We test H₀: μ = 50 vs Ha: μ ≠ 50 (two‑sided). For a Z‑test we assume a known population standard deviation (σ). Below we set σ = 1.0 for demonstration."
   ]
  },
  {
   "cell_type": "markdown",
   "id": "e5651483",
   "metadata": {},
   "source": [
    "**Interpretation:** If the p‑value is less than or equal to 0.05, we reject H₀ and conclude the mean differs from 50. Otherwise, we do not have sufficient evidence to say it differs from 50 given the assumed σ."
   ]
  },
  {
   "cell_type": "code",
   "execution_count": 2,
   "id": "5ef121b6-3776-4501-9cd9-982fcbb71833",
   "metadata": {},
   "outputs": [
    {
     "name": "stdout",
     "output_type": "stream",
     "text": [
      "n = 36, x̄ = 50.0889, σ (assumed known) = 1.000\n",
      "Z statistic = 0.5333\n",
      "Two-sided p-value = 0.593803\n",
      "Decision at α = 0.05: Fail to reject H0\n"
     ]
    }
   ],
   "source": [
    "import numpy as np\n",
    "import math\n",
    "\n",
    "sample_data = [49.1, 50.2, 51.0, 48.7, 50.5, 49.8, 50.3, 50.7, 50.2, 49.6,\n",
    "               50.1, 49.9, 50.8, 50.4, 48.9, 50.6, 50.0, 49.7, 50.2, 49.5,\n",
    "               50.1, 50.3, 50.4, 50.5, 50.0, 50.7, 49.3, 49.8, 50.2, 50.9,\n",
    "               50.3, 50.4, 50.0, 49.7, 50.5, 49.9]\n",
    "\n",
    "x = np.array(sample_data, dtype=float)\n",
    "n = x.size\n",
    "mu0 = 50.0       # hypothesized mean\n",
    "sigma = 1.0      # assumed known population std for Z-test (adjust if known)\n",
    "\n",
    "xbar = x.mean()\n",
    "z_stat = (xbar - mu0) / (sigma / math.sqrt(n))\n",
    "\n",
    "# standard normal CDF via error function\n",
    "def phi(z):\n",
    "    return 0.5 * (1 + math.erf(z / math.sqrt(2)))\n",
    "\n",
    "# two-sided p-value\n",
    "p_value = 2 * (1 - phi(abs(z_stat)))\n",
    "\n",
    "alpha = 0.05\n",
    "decision = \"Reject H0\" if p_value <= alpha else \"Fail to reject H0\"\n",
    "\n",
    "print(f\"n = {n}, x̄ = {xbar:.4f}, σ (assumed known) = {sigma:.3f}\")\n",
    "print(f\"Z statistic = {z_stat:.4f}\")\n",
    "print(f\"Two-sided p-value = {p_value:.6f}\")\n",
    "print(f\"Decision at α = {alpha}: {decision}\")"
   ]
  },
  {
   "cell_type": "markdown",
   "id": "e4d842c9",
   "metadata": {},
   "source": [
    "### Question 8: Write a Python script to simulate data from a normal distribution and calculate the 95% confidence interval for its mean. Plot the data using Matplotlib.\n",
    "\n",
    "**Answer (Code):**"
   ]
  },
  {
   "cell_type": "code",
   "execution_count": 5,
   "id": "35bae7a2",
   "metadata": {},
   "outputs": [
    {
     "name": "stdout",
     "output_type": "stream",
     "text": [
      "Sample mean = 9.862, Sample sd = 2.485, n = 400\n",
      "95% CI for μ: [9.618, 10.105] (using z* = 1.96)\n"
     ]
    },
    {
     "data": {
      "image/png": "[encoded data removed]",
      "text/plain": [
       "<Figure size 640x480 with 1 Axes>"
      ]
     },
     "metadata": {},
     "output_type": "display_data"
    }
   ],
   "source": [
    "import numpy as np\n",
    "import matplotlib.pyplot as plt\n",
    "\n",
    "np.random.seed(123)\n",
    "\n",
    "#Simulate from Normal(mu, sigma)\n",
    "mu_true = 10.0\n",
    "sigma_true = 2.5\n",
    "n = 400\n",
    "\n",
    "data = np.random.normal(loc=mu_true, scale=sigma_true, size=n)\n",
    "\n",
    "# 95% CI for the population mean using z* ≈ 1.96 and sample standard error\n",
    "xbar = data.mean()\n",
    "s = data.std(ddof=1)\n",
    "se = s / np.sqrt(n)\n",
    "z_star = 1.96\n",
    "ci_low, ci_high = xbar - z_star*se, xbar + z_star*se\n",
    "\n",
    "print(f\"Sample mean = {xbar:.3f}, Sample sd = {s:.3f}, n = {n}\")\n",
    "print(f\"95% CI for μ: [{ci_low:.3f}, {ci_high:.3f}] (using z* = 1.96)\")\n",
    "\n",
    "# Plot histogram of the simulated data\n",
    "plt.figure()\n",
    "plt.hist(data, bins=20, edgecolor='black')\n",
    "plt.title('Simulated Normal Data (Histogram)')\n",
    "plt.xlabel('Value')\n",
    "plt.ylabel('Frequency')\n",
    "plt.show()"
   ]
  },
  {
   "cell_type": "markdown",
   "id": "d4ace582",
   "metadata": {},
   "source": [
    "### Question 9: Write a Python function to calculate the Z-scores from a dataset and visualize the standardized data using a histogram. Explain what the Z-scores represent in terms of standard deviations from the mean.\n",
    "\n",
    "**Answer (Code + Explanation):**"
   ]
  },
  {
   "cell_type": "code",
   "execution_count": 6,
   "id": "f78e937a",
   "metadata": {},
   "outputs": [
    {
     "ename": "SyntaxError",
     "evalue": "unmatched ')' (828843008.py, line 14)",
     "output_type": "error",
     "traceback": [
      "\u001b[1;36m  Cell \u001b[1;32mIn[6], line 14\u001b[1;36m\u001b[0m\n\u001b[1;33m    print(f\"Z-scores: mean ≈ {z.mean():.3e}, sd ≈ {z.std(ddof=0):.3f} (should be ~0 and 1)\"))\u001b[0m\n\u001b[1;37m                                                                                            ^\u001b[0m\n\u001b[1;31mSyntaxError\u001b[0m\u001b[1;31m:\u001b[0m unmatched ')'\n"
     ]
    }
   ],
   "source": [
    "import numpy as np\n",
    "import matplotlib.pyplot as plt\n",
    "\n",
    "def zscores(arr):\n",
    "    arr = np.asarray(arr, dtype=float)\n",
    "    mu = arr.mean()\n",
    "    sd = arr.std(ddof=0)  # population sd for standardization; use ddof=1 for sample sd\n",
    "    return (arr - mu) / sd, mu, sd\n",
    "\n",
    "# Example dataset (reuse data from Q8 for illustration)\n",
    "z, mu, sd = zscores(data)\n",
    "\n",
    "print(f\"Mean (original) = {mu:.3f}, SD (original) = {sd:.3f}\")\n",
    "print(f\"Z-scores: mean ≈ {z.mean():.3e}, sd ≈ {z.std(ddof=0):.3f} (should be ~0 and 1)\"))\n",
    "\n",
    "# Plot histogram of Z-scores\n",
    "plt.figure()\n",
    "plt.hist(z, bins=20, edgecolor='black')\n",
    "plt.title('Histogram of Z-scores (Standardized Data)')\n",
    "plt.xlabel('Z-score')\n",
    "plt.ylabel('Frequency')\n",
    "plt.show()\n",
    "\n",
    "print(\"Interpretation: A Z-score indicates how many standard deviations a value lies above (+) or below (−) the dataset mean; e.g., z = 1.0 is one SD above the mean.\")"
   ]
  },
  {
   "cell_type": "code",
   "execution_count": null,
   "id": "2e0619b0-8f56-45af-a855-ae0a949a3d3e",
   "metadata": {},
   "outputs": [],
   "source": []
  }
 ],
 "metadata": {
  "kernelspec": {
   "display_name": "Python 3 (ipykernel)",
   "language": "python",
   "name": "python3"
  },
  "language_info": {
   "codemirror_mode": {
    "name": "ipython",
    "version": 3
   },
   "file_extension": ".py",
   "mimetype": "text/x-python",
   "name": "python",
   "nbconvert_exporter": "python",
   "pygments_lexer": "ipython3",
   "version": "3.13.5"
  }
 },
 "nbformat": 4,
 "nbformat_minor": 5
}
